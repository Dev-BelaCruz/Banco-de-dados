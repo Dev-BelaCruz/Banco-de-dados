{
  "nbformat": 4,
  "nbformat_minor": 0,
  "metadata": {
    "colab": {
      "provenance": [],
      "authorship_tag": "ABX9TyMRM2NTE49aC3EuQc+BdDAh",
      "include_colab_link": true
    },
    "kernelspec": {
      "name": "python3",
      "display_name": "Python 3"
    },
    "language_info": {
      "name": "python"
    }
  },
  "cells": [
    {
      "cell_type": "markdown",
      "metadata": {
        "id": "view-in-github",
        "colab_type": "text"
      },
      "source": [
        "<a href=\"https://colab.research.google.com/github/Dev-BelaCruz/Banco-de-dados/blob/main/Tabela_Dos_Alunos.ipynb\" target=\"_parent\"><img src=\"https://colab.research.google.com/assets/colab-badge.svg\" alt=\"Open In Colab\"/></a>"
      ]
    },
    {
      "cell_type": "code",
      "execution_count": 1,
      "metadata": {
        "colab": {
          "base_uri": "https://localhost:8080/"
        },
        "id": "HzYGdQ-_bOZJ",
        "outputId": "67a6920d-7571-4ff7-935c-f7e1d6b91935"
      },
      "outputs": [
        {
          "output_type": "stream",
          "name": "stdout",
          "text": [
            "         Titulação  Quantidade\n",
            "0        Doutorado          20\n",
            "1         Mestrado          15\n",
            "2   Especialização          85\n",
            "3        Graduação         145\n",
            "4  Cursos Técnicos         320\n"
          ]
        }
      ],
      "source": [
        "# Importando a biblioteca pandas\n",
        "import pandas as pd\n",
        "\n",
        "# Criando o DataFrame com as titulações e a quantidade de alunos\n",
        "df = pd.DataFrame({\n",
        "    'Titulação': ['Doutorado', 'Mestrado', 'Especialização', 'Graduação', 'Cursos Técnicos'],\n",
        "    'Quantidade': [20, 15, 85, 145, 320]\n",
        "})\n",
        "\n",
        "# Exibindo o DataFrame\n",
        "print(df)\n"
      ]
    }
  ]
}