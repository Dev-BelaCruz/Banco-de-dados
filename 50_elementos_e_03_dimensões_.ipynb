{
  "nbformat": 4,
  "nbformat_minor": 0,
  "metadata": {
    "colab": {
      "provenance": [],
      "authorship_tag": "ABX9TyOnGHT+0x3b6VmWn/C4yOOy",
      "include_colab_link": true
    },
    "kernelspec": {
      "name": "python3",
      "display_name": "Python 3"
    },
    "language_info": {
      "name": "python"
    }
  },
  "cells": [
    {
      "cell_type": "markdown",
      "metadata": {
        "id": "view-in-github",
        "colab_type": "text"
      },
      "source": [
        "<a href=\"https://colab.research.google.com/github/Dev-BelaCruz/Banco-de-dados/blob/main/50_elementos_e_03_dimens%C3%B5es_.ipynb\" target=\"_parent\"><img src=\"https://colab.research.google.com/assets/colab-badge.svg\" alt=\"Open In Colab\"/></a>"
      ]
    },
    {
      "cell_type": "code",
      "execution_count": 1,
      "metadata": {
        "colab": {
          "base_uri": "https://localhost:8080/"
        },
        "id": "gxbboxj7cgMm",
        "outputId": "899eb268-1122-4b51-8429-a56bfa69ec2e"
      },
      "outputs": [
        {
          "output_type": "stream",
          "name": "stdout",
          "text": [
            "Shape =  (2, 5, 5)\n",
            "Número de dimensões =  3\n",
            "Número de elementos =  50\n",
            "Tensor v = \n",
            " [[[ 0  1  2  3  4]\n",
            "  [ 5  6  7  8  9]\n",
            "  [10 11 12 13 14]\n",
            "  [15 16 17 18 19]\n",
            "  [20 21 22 23 24]]\n",
            "\n",
            " [[25 26 27 28 29]\n",
            "  [30 31 32 33 34]\n",
            "  [35 36 37 38 39]\n",
            "  [40 41 42 43 44]\n",
            "  [45 46 47 48 49]]]\n"
          ]
        }
      ],
      "source": [
        "# Importando a biblioteca numpy\n",
        "import numpy as np\n",
        "\n",
        "# Criando uma matriz (array) com 50 elementos e reorganizando para 3 dimensões (2x5x5)\n",
        "v = np.array(range(50)).reshape(2, 5, 5)\n",
        "\n",
        "# Exibindo as informações da matriz\n",
        "print('Shape = ', v.shape)           # Mostra o formato (dimensões) da matriz\n",
        "print('Número de dimensões = ', v.ndim)  # Mostra o número de dimensões\n",
        "print('Número de elementos = ', v.size)  # Mostra o total de elementos\n",
        "print('Tensor v = \\n', v)            # Mostra o tensor (matriz 3D) criado\n"
      ]
    }
  ]
}