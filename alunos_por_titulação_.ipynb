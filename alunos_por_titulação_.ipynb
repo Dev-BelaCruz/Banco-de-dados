{
  "nbformat": 4,
  "nbformat_minor": 0,
  "metadata": {
    "colab": {
      "provenance": [],
      "authorship_tag": "ABX9TyPRhJYlw5KTKf2an7N+8t23",
      "include_colab_link": true
    },
    "kernelspec": {
      "name": "python3",
      "display_name": "Python 3"
    },
    "language_info": {
      "name": "python"
    }
  },
  "cells": [
    {
      "cell_type": "markdown",
      "metadata": {
        "id": "view-in-github",
        "colab_type": "text"
      },
      "source": [
        "<a href=\"https://colab.research.google.com/github/Dev-BelaCruz/Banco-de-dados/blob/main/alunos_por_titula%C3%A7%C3%A3o_.ipynb\" target=\"_parent\"><img src=\"https://colab.research.google.com/assets/colab-badge.svg\" alt=\"Open In Colab\"/></a>"
      ]
    },
    {
      "cell_type": "code",
      "execution_count": 1,
      "metadata": {
        "colab": {
          "base_uri": "https://localhost:8080/"
        },
        "id": "q_HFGkFKYx3R",
        "outputId": "5b48a8e7-c85c-41ad-b719-95592099ec18"
      },
      "outputs": [
        {
          "output_type": "stream",
          "name": "stdout",
          "text": [
            "20           Doutorado\n",
            "15            Mestrado\n",
            "85      Especialização\n",
            "145          Graduação\n",
            "320    Cursos Técnicos\n",
            "dtype: object\n"
          ]
        }
      ],
      "source": [
        "# Importando as bibliotecas necessárias\n",
        "import numpy as np\n",
        "import pandas as pd\n",
        "import matplotlib.pyplot as plt\n",
        "\n",
        "# Criando a série com os dados de titulação e número de alunos\n",
        "Titulação = pd.Series(\n",
        "    ['Doutorado', 'Mestrado', 'Especialização', 'Graduação', 'Cursos Técnicos'],\n",
        "    index=[20, 15, 85, 145, 320]\n",
        ")\n",
        "\n",
        "# Exibindo a série\n",
        "print(Titulação)\n"
      ]
    }
  ]
}