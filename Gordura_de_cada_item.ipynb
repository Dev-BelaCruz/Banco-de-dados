{
  "nbformat": 4,
  "nbformat_minor": 0,
  "metadata": {
    "colab": {
      "provenance": [],
      "authorship_tag": "ABX9TyPjGE/VqNnxiU0wMDD0iZsg",
      "include_colab_link": true
    },
    "kernelspec": {
      "name": "python3",
      "display_name": "Python 3"
    },
    "language_info": {
      "name": "python"
    }
  },
  "cells": [
    {
      "cell_type": "markdown",
      "metadata": {
        "id": "view-in-github",
        "colab_type": "text"
      },
      "source": [
        "<a href=\"https://colab.research.google.com/github/Dev-BelaCruz/Banco-de-dados/blob/main/Gordura_de_cada_item.ipynb\" target=\"_parent\"><img src=\"https://colab.research.google.com/assets/colab-badge.svg\" alt=\"Open In Colab\"/></a>"
      ]
    },
    {
      "cell_type": "code",
      "execution_count": 2,
      "metadata": {
        "colab": {
          "base_uri": "https://localhost:8080/"
        },
        "id": "giH4Mou0b1U6",
        "outputId": "6ca066c2-199e-4282-86e5-fdb1e6027803"
      },
      "outputs": [
        {
          "output_type": "stream",
          "name": "stdout",
          "text": [
            "                 calorias  gordura (%)\n",
            "banana                200            0\n",
            "macarrão              350           15\n",
            "cachorro quente       550           35\n"
          ]
        }
      ],
      "source": [
        "# Importando a biblioteca pandas\n",
        "import pandas as pd\n",
        "\n",
        "# Criando o DataFrame com as calorias e o percentual de gordura\n",
        "df = pd.DataFrame({\n",
        "    'calorias': [200, 350, 550],\n",
        "    'gordura (%)': [0, 15, 35]\n",
        "}, index=['banana', 'macarrão', 'cachorro quente'])\n",
        "\n",
        "# Exibindo o DataFrame\n",
        "print(df)\n"
      ]
    }
  ]
}